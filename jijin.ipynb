{
 "cells": [
  {
   "cell_type": "code",
   "execution_count": 1,
   "metadata": {
    "collapsed": true
   },
   "outputs": [],
   "source": [
    "import numpy as np\n",
    "import pandas as pd\n",
    "import os,gc\n",
    "\n",
    "import matplotlib.pyplot as plt\n",
    "plt.style.use('seaborn-white')\n",
    "import seaborn as sns\n",
    "sns.set_style(\"white\")\n",
    "%matplotlib inline"
   ]
  },
  {
   "cell_type": "code",
   "execution_count": 2,
   "metadata": {
    "collapsed": false
   },
   "outputs": [
    {
     "data": {
      "text/plain": [
       "(600, 2)"
      ]
     },
     "execution_count": 2,
     "metadata": {},
     "output_type": "execute_result"
    }
   ],
   "source": [
    "trading_date = pd.read_csv('../data/trading_date.csv',names=['day'])\n",
    "trading_date = trading_date[19:619].reset_index(drop=True)\n",
    "trading_date['dd'] = range(len(trading_date))\n",
    "trading_date.shape"
   ]
  },
  {
   "cell_type": "code",
   "execution_count": 3,
   "metadata": {
    "collapsed": false
   },
   "outputs": [],
   "source": [
    "cols = ['fund_pair']\n",
    "for i in range(400):\n",
    "    cols.append(str(i))\n",
    "train_correlation = pd.read_csv('../data/train_correlation.csv')\n",
    "train_correlation.columns = cols\n",
    "for i in range(400):\n",
    "    train_correlation[str(i)] = train_correlation[str(i)].astype('float32')"
   ]
  },
  {
   "cell_type": "code",
   "execution_count": 4,
   "metadata": {
    "collapsed": false
   },
   "outputs": [],
   "source": [
    "cols = ['fund_pair']\n",
    "for i in range(400,539):\n",
    "    cols.append(str(i))\n",
    "test_correlation = pd.read_csv('../data/test_correlation.csv')\n",
    "test_correlation.columns = cols\n",
    "for i in range(400,539):\n",
    "    test_correlation[str(i)] = test_correlation[str(i)].astype('float32')"
   ]
  },
  {
   "cell_type": "code",
   "execution_count": 5,
   "metadata": {
    "collapsed": false
   },
   "outputs": [
    {
     "data": {
      "text/plain": [
       "(261003, 540)"
      ]
     },
     "execution_count": 5,
     "metadata": {},
     "output_type": "execute_result"
    }
   ],
   "source": [
    "train_correlation = train_correlation.merge(test_correlation,on=['fund_pair'],how='left')\n",
    "del test_correlation\n",
    "gc.collect()\n",
    "train_correlation.shape"
   ]
  },
  {
   "cell_type": "code",
   "execution_count": 6,
   "metadata": {
    "collapsed": true
   },
   "outputs": [],
   "source": [
    "num_pairs = train_correlation.shape[0]"
   ]
  },
  {
   "cell_type": "code",
   "execution_count": 7,
   "metadata": {
    "collapsed": true
   },
   "outputs": [],
   "source": [
    "fund_pair = train_correlation[['fund_pair']].copy()\n",
    "fund_pair['fund0'] = fund_pair['fund_pair'].apply(lambda x:int(str(x).split('-')[0].split()[1]))\n",
    "fund_pair['fund1'] = fund_pair['fund_pair'].apply(lambda x:int(str(x).split('-')[1].split()[1]))"
   ]
  },
  {
   "cell_type": "code",
   "execution_count": 8,
   "metadata": {
    "collapsed": false
   },
   "outputs": [
    {
     "name": "stdout",
     "output_type": "stream",
     "text": [
      "(723, 601) (723, 601)\n"
     ]
    }
   ],
   "source": [
    "cols = ['fund']\n",
    "for i in range(400):\n",
    "    cols.append(str(i))\n",
    "train_fund_return = pd.read_csv('../data/train_fund_return.csv')\n",
    "train_fund_benchmark_return = pd.read_csv('../data/train_fund_benchmark_return.csv')\n",
    "train_fund_return.columns = cols\n",
    "train_fund_benchmark_return.columns = cols\n",
    "\n",
    "cols = ['fund']\n",
    "for i in range(400,600):\n",
    "    cols.append(str(i))\n",
    "test_fund_return = pd.read_csv('../data/test_fund_return.csv')\n",
    "test_fund_benchmark_return = pd.read_csv('../data/test_fund_benchmark_return.csv')\n",
    "test_fund_return.columns = cols\n",
    "test_fund_benchmark_return.columns = cols\n",
    "\n",
    "train_fund_return = train_fund_return.merge(test_fund_return,on=['fund'],how='left')\n",
    "train_fund_benchmark_return = train_fund_benchmark_return.merge(test_fund_benchmark_return,on=['fund'],how='left')\n",
    "del test_fund_return,test_fund_benchmark_return\n",
    "gc.collect()\n",
    "print (train_fund_return.shape,train_fund_benchmark_return.shape)"
   ]
  },
  {
   "cell_type": "code",
   "execution_count": 9,
   "metadata": {
    "collapsed": true
   },
   "outputs": [],
   "source": [
    "cols = []\n",
    "for i in range(0,600):\n",
    "    cols.append(str(i))\n",
    "train_data2 = train_fund_return[cols].values\n",
    "train_data3 = train_fund_benchmark_return[cols].values"
   ]
  },
  {
   "cell_type": "code",
   "execution_count": 10,
   "metadata": {
    "collapsed": false
   },
   "outputs": [
    {
     "name": "stdout",
     "output_type": "stream",
     "text": [
      "(35, 601)\n"
     ]
    }
   ],
   "source": [
    "cols = ['idx']\n",
    "for i in range(400):\n",
    "    cols.append(str(i))\n",
    "train_index_return = pd.read_csv('../data/train_index_return.csv',encoding='GB2312')\n",
    "train_index_return.columns = cols\n",
    "\n",
    "cols = ['idx']\n",
    "for i in range(400,600):\n",
    "    cols.append(str(i))\n",
    "test_index_return = pd.read_csv('../data/test_index_return.csv',encoding='GB2312')\n",
    "test_index_return.columns = cols\n",
    "\n",
    "train_index_return = train_index_return.merge(test_index_return,on=['idx'],how='left')\n",
    "del test_index_return\n",
    "gc.collect()\n",
    "print (train_index_return.shape)"
   ]
  },
  {
   "cell_type": "code",
   "execution_count": 11,
   "metadata": {
    "collapsed": false
   },
   "outputs": [
    {
     "name": "stdout",
     "output_type": "stream",
     "text": [
      "0.003286684394535658\n",
      "-0.8916716949699199\n",
      "0.79651343746725\n"
     ]
    }
   ],
   "source": [
    "cols = []\n",
    "for i in range(600):\n",
    "    cols.append(str(i))\n",
    "index_return = train_index_return[cols].values*10\n",
    "print (np.mean(np.mean(index_return)))\n",
    "print (np.min(np.min(index_return)))\n",
    "print (np.max(np.max(index_return)))"
   ]
  },
  {
   "cell_type": "code",
   "execution_count": 12,
   "metadata": {
    "collapsed": true
   },
   "outputs": [],
   "source": [
    "input_len = 100\n",
    "output_len = 61\n",
    "output_len1 = input_len+output_len"
   ]
  },
  {
   "cell_type": "code",
   "execution_count": 13,
   "metadata": {
    "collapsed": false
   },
   "outputs": [
    {
     "data": {
      "text/plain": [
       "(261003, 2)"
      ]
     },
     "execution_count": 13,
     "metadata": {},
     "output_type": "execute_result"
    }
   ],
   "source": [
    "val_ids = fund_pair[['fund0','fund1']].values\n",
    "val_ids.shape"
   ]
  },
  {
   "cell_type": "code",
   "execution_count": 14,
   "metadata": {
    "collapsed": true
   },
   "outputs": [],
   "source": [
    "val_X_cols = []\n",
    "for i in range(539-input_len-output_len,539-output_len):\n",
    "    val_X_cols.append(str(i))\n",
    "val_y_cols = []\n",
    "for i in range(539-output_len,539):\n",
    "    val_y_cols.append(str(i))\n",
    "    \n",
    "val_Y = train_correlation[val_y_cols].values.reshape(num_pairs,output_len,1)"
   ]
  },
  {
   "cell_type": "code",
   "execution_count": 15,
   "metadata": {
    "collapsed": false
   },
   "outputs": [],
   "source": [
    "val_X = np.zeros((num_pairs,input_len,1))\n",
    "val_X[:,:,0] = train_correlation[val_X_cols].values"
   ]
  },
  {
   "cell_type": "code",
   "execution_count": 16,
   "metadata": {
    "collapsed": false
   },
   "outputs": [
    {
     "name": "stdout",
     "output_type": "stream",
     "text": [
      "0.0004608952336021196\n",
      "-0.099565106165259\n",
      "0.45146573480877505\n",
      "0.00030221792565278004\n",
      "-0.11545913369641699\n",
      "0.07343425126393101\n"
     ]
    }
   ],
   "source": [
    "print (np.mean(np.mean(train_data2)))\n",
    "print (np.min(np.min(train_data2)))\n",
    "print (np.max(np.max(train_data2)))\n",
    "\n",
    "print (np.mean(np.mean(train_data3)))\n",
    "print (np.min(np.min(train_data3)))\n",
    "print (np.max(np.max(train_data3)))"
   ]
  },
  {
   "cell_type": "code",
   "execution_count": 17,
   "metadata": {
    "collapsed": false
   },
   "outputs": [],
   "source": [
    "val_X2 = np.zeros((num_pairs,output_len1,2))\n",
    "val_X3 = np.zeros((num_pairs,output_len1,2))\n",
    "test_X2 = np.zeros((num_pairs,output_len1,2))\n",
    "test_X3 = np.zeros((num_pairs,output_len1,2))\n",
    "for i in range(num_pairs):\n",
    "    val_X2[i,:,0] = train_data2[val_ids[i,0]-1,539-output_len1:539]\n",
    "    val_X2[i,:,1] = train_data3[val_ids[i,0]-1,539-output_len1:539]\n",
    "    \n",
    "    val_X3[i,:,0] = train_data2[val_ids[i,1]-1,539-output_len1:539]\n",
    "    val_X3[i,:,1] = train_data3[val_ids[i,1]-1,539-output_len1:539]\n",
    "    \n",
    "    test_X2[i,:,0] = train_data2[val_ids[i,0]-1,600-output_len1:600]\n",
    "    test_X2[i,:,1] = train_data3[val_ids[i,0]-1,600-output_len1:600]\n",
    "    \n",
    "    test_X3[i,:,0] = train_data2[val_ids[i,1]-1,600-output_len1:600]\n",
    "    test_X3[i,:,1] = train_data3[val_ids[i,1]-1,600-output_len1:600]"
   ]
  },
  {
   "cell_type": "code",
   "execution_count": 18,
   "metadata": {
    "collapsed": false
   },
   "outputs": [
    {
     "data": {
      "text/plain": [
       "(261003, 161, 35)"
      ]
     },
     "execution_count": 18,
     "metadata": {},
     "output_type": "execute_result"
    }
   ],
   "source": [
    "val_idx = index_return[:,539-output_len1:539]\n",
    "val_idx = np.swapaxes(val_idx, 0,1)\n",
    "val_idx = np.expand_dims(val_idx,0)\n",
    "val_idx = np.repeat(val_idx,num_pairs,axis=0)\n",
    "val_idx.shape"
   ]
  },
  {
   "cell_type": "code",
   "execution_count": 19,
   "metadata": {
    "collapsed": false
   },
   "outputs": [],
   "source": [
    "test_X_cols = []\n",
    "for i in range(600-output_len-input_len,600-output_len):\n",
    "    test_X_cols.append(str(i))\n",
    "    \n",
    "test_X = np.zeros((num_pairs,input_len,1))\n",
    "test_X[:,:,0] = train_correlation[test_X_cols].values"
   ]
  },
  {
   "cell_type": "code",
   "execution_count": 20,
   "metadata": {
    "collapsed": false
   },
   "outputs": [
    {
     "data": {
      "text/plain": [
       "(261003, 161, 35)"
      ]
     },
     "execution_count": 20,
     "metadata": {},
     "output_type": "execute_result"
    }
   ],
   "source": [
    "test_idx = index_return[:,600-output_len1:600]\n",
    "test_idx = np.swapaxes(test_idx, 0,1)\n",
    "test_idx = np.expand_dims(test_idx,0)\n",
    "test_idx = np.repeat(test_idx,num_pairs,axis=0)\n",
    "test_idx.shape"
   ]
  },
  {
   "cell_type": "code",
   "execution_count": 21,
   "metadata": {
    "collapsed": false
   },
   "outputs": [
    {
     "name": "stderr",
     "output_type": "stream",
     "text": [
      "Using TensorFlow backend.\n"
     ]
    }
   ],
   "source": [
    "import keras\n",
    "import tensorflow as tf\n",
    "from keras import backend as K\n",
    "from keras.layers import *\n",
    "from keras.models import Model\n",
    "from keras.callbacks import EarlyStopping,ModelCheckpoint,ReduceLROnPlateau\n",
    "\n",
    "from keras.layers.embeddings import Embedding\n",
    "from keras.layers.core import Layer\n",
    "\n",
    "import warnings\n",
    "warnings.filterwarnings('ignore')"
   ]
  },
  {
   "cell_type": "code",
   "execution_count": 22,
   "metadata": {
    "collapsed": false
   },
   "outputs": [],
   "source": [
    "np.random.seed(555)\n",
    "class DataGenerator(keras.utils.Sequence):\n",
    "    def __init__(self, data, ids_data,index_return_data,data2,data3,\n",
    "                 batch_size=512, am = 1, alen=100, blen=61, clen=100,shuffle=True):\n",
    "        self.batch_size = batch_size\n",
    "        self.am = am\n",
    "        self.data = data\n",
    "        self.data2 = data2\n",
    "        self.data3 = data3\n",
    "        self.index_return_data = index_return_data\n",
    "        self.ids_data = ids_data\n",
    "        self.alen = alen\n",
    "        self.blen = blen\n",
    "        self.clen = clen\n",
    "        self.shuffle = shuffle\n",
    "        self.on_epoch_end()\n",
    "\n",
    "    def __len__(self):\n",
    "        return int(np.floor(len(self.data) / self.batch_size))*self.am+1\n",
    "\n",
    "    def __getitem__(self, index):\n",
    "        #indexes = self.indexes[index*self.batch_size:(index+1)*self.batch_size]\n",
    "        indexes = np.array(range(index*self.batch_size,(index+1)*self.batch_size))\n",
    "        indexes = indexes%len(self.data)\n",
    "        indexes = self.indexes[indexes]\n",
    "        X, y = self.__data_generation(indexes)\n",
    "        return X, y\n",
    "\n",
    "    def on_epoch_end(self):\n",
    "        self.indexes = np.arange(len(self.data))\n",
    "        if self.shuffle == True:\n",
    "            np.random.shuffle(self.indexes)\n",
    "\n",
    "    def __data_generation(self, indexes):\n",
    "        X = np.empty((self.batch_size, self.alen, 1))\n",
    "        y = np.empty((self.batch_size, self.blen, 1))\n",
    "        X1 = np.empty((self.batch_size, self.clen,35))\n",
    "        ids = np.empty((self.batch_size, 2))\n",
    "        x2 = np.empty((self.batch_size, self.clen, 2))\n",
    "        x3 = np.empty((self.batch_size, self.clen, 2))\n",
    "\n",
    "        for i in range(len(indexes)):\n",
    "            si = np.random.randint(0,539-self.blen-self.blen-self.alen)\n",
    "            X[i,:,0] = self.data[indexes[i],si:si+self.alen]\n",
    "            \n",
    "            y[i,:,0] = self.data[indexes[i],si+self.alen:si+self.alen+self.blen]\n",
    "            X1[i,:,:] = np.swapaxes(self.index_return_data[:,si+self.alen+self.blen-self.clen:si+self.alen+self.blen],0,1)\n",
    "            ids[i,:] = self.ids_data[indexes[i],:]\n",
    "            x2[i,:,0] = self.data2[self.ids_data[indexes[i],0]-1,si+self.alen+self.blen-self.clen:si+self.alen+self.blen]\n",
    "            x2[i,:,1] = self.data3[self.ids_data[indexes[i],0]-1,si+self.alen+self.blen-self.clen:si+self.alen+self.blen]\n",
    "            \n",
    "            x3[i,:,0] = self.data2[self.ids_data[indexes[i],1]-1,si+self.alen+self.blen-self.clen:si+self.alen+self.blen]\n",
    "            x3[i,:,1] = self.data3[self.ids_data[indexes[i],1]-1,si+self.alen+self.blen-self.clen:si+self.alen+self.blen]\n",
    "\n",
    "        return [ids,X,X1,x2,x3],y"
   ]
  },
  {
   "cell_type": "code",
   "execution_count": 23,
   "metadata": {
    "collapsed": false
   },
   "outputs": [],
   "source": [
    "train_cols = []\n",
    "for i in range(0,539):\n",
    "    train_cols.append(str(i))\n",
    "train_data = train_correlation[train_cols].values"
   ]
  },
  {
   "cell_type": "code",
   "execution_count": null,
   "metadata": {
    "collapsed": true
   },
   "outputs": [],
   "source": [
    "params = {'batch_size': 512,\n",
    "          'alen': input_len,\n",
    "          'blen': output_len,\n",
    "          'clen': output_len1,\n",
    "          'am':1,\n",
    "          'shuffle': True}\n",
    "\n",
    "\n",
    "training_generator = DataGenerator(train_data,val_ids,index_return,train_data2,train_data3,  **params)"
   ]
  },
  {
   "cell_type": "code",
   "execution_count": 24,
   "metadata": {
    "collapsed": false
   },
   "outputs": [
    {
     "name": "stdout",
     "output_type": "stream",
     "text": [
      "0.7673176\n",
      "-0.43738315\n",
      "0.9999626\n"
     ]
    }
   ],
   "source": [
    "print (np.mean(np.mean(train_data)))\n",
    "print (np.min(np.min(train_data)))\n",
    "print (np.max(np.max(train_data)))"
   ]
  },
  {
   "cell_type": "code",
   "execution_count": 25,
   "metadata": {
    "collapsed": false
   },
   "outputs": [
    {
     "data": {
      "text/plain": [
       "array([0.05956203, 0.95790312])"
      ]
     },
     "execution_count": 25,
     "metadata": {},
     "output_type": "execute_result"
    }
   ],
   "source": [
    "(np.array([-0.43738315,0.9999626])-0.7673176+1.3)/1.6"
   ]
  },
  {
   "cell_type": "code",
   "execution_count": null,
   "metadata": {
    "collapsed": true
   },
   "outputs": [],
   "source": []
  },
  {
   "cell_type": "code",
   "execution_count": 24,
   "metadata": {
    "collapsed": true
   },
   "outputs": [],
   "source": [
    "from keras import backend as K\n",
    "from keras.layers import Layer\n",
    "from keras import initializers, regularizers, constraints\n",
    " \n",
    "def dot_product(x, kernel):\n",
    "    \"\"\"\n",
    "    Wrapper for dot product operation, in order to be compatible with both\n",
    "    Theano and Tensorflow\n",
    "    Args:\n",
    "        x (): input\n",
    "        kernel (): weights\n",
    "    Returns:\n",
    "    \"\"\"\n",
    "    if K.backend() == 'tensorflow':\n",
    "        return K.squeeze(K.dot(x, K.expand_dims(kernel)), axis=-1)\n",
    "    else:\n",
    "        return K.dot(x, kernel)\n",
    "\n",
    "class AttentionWithContext(Layer):\n",
    "    \"\"\"\n",
    "    Attention operation, with a context/query vector, for temporal data.\n",
    "    Supports Masking.\n",
    "    Follows the work of Yang et al. [https://www.cs.cmu.edu/~diyiy/docs/naacl16.pdf]\n",
    "    \"Hierarchical Attention Networks for Document Classification\"\n",
    "    by using a context vector to assist the attention\n",
    "    # Input shape\n",
    "        3D tensor with shape: `(samples, steps, features)`.\n",
    "    # Output shape\n",
    "        2D tensor with shape: `(samples, features)`.\n",
    "    How to use:\n",
    "    Just put it on top of an RNN Layer (GRU/LSTM/SimpleRNN) with return_sequences=True.\n",
    "    The dimensions are inferred based on the output shape of the RNN.\n",
    "    Note: The layer has been tested with Keras 2.0.6\n",
    "    Example:\n",
    "        model.add(LSTM(64, return_sequences=True))\n",
    "        model.add(AttentionWithContext())\n",
    "        # next add a Dense layer (for classification/regression) or whatever...\n",
    "    \"\"\"\n",
    " \n",
    "    def __init__(self,\n",
    "                 W_regularizer=None, u_regularizer=None, b_regularizer=None,\n",
    "                 W_constraint=None, u_constraint=None, b_constraint=None,\n",
    "                 bias=True, **kwargs):\n",
    " \n",
    "        self.supports_masking = True\n",
    "        self.init = initializers.get('glorot_uniform')\n",
    " \n",
    "        self.W_regularizer = regularizers.get(W_regularizer)\n",
    "        self.u_regularizer = regularizers.get(u_regularizer)\n",
    "        self.b_regularizer = regularizers.get(b_regularizer)\n",
    " \n",
    "        self.W_constraint = constraints.get(W_constraint)\n",
    "        self.u_constraint = constraints.get(u_constraint)\n",
    "        self.b_constraint = constraints.get(b_constraint)\n",
    " \n",
    "        self.bias = bias\n",
    "        super(AttentionWithContext, self).__init__(**kwargs)\n",
    " \n",
    "    def build(self, input_shape):\n",
    "        assert len(input_shape) == 3\n",
    " \n",
    "        self.W = self.add_weight((input_shape[-1], input_shape[-1],),\n",
    "                                 initializer=self.init,\n",
    "                                 name='{}_W'.format(self.name),\n",
    "                                 regularizer=self.W_regularizer,\n",
    "                                 constraint=self.W_constraint)\n",
    "        if self.bias:\n",
    "            self.b = self.add_weight((input_shape[-1],),\n",
    "                                     initializer='zero',\n",
    "                                     name='{}_b'.format(self.name),\n",
    "                                     regularizer=self.b_regularizer,\n",
    "                                     constraint=self.b_constraint)\n",
    " \n",
    "        self.u = self.add_weight((input_shape[-1],),\n",
    "                                 initializer=self.init,\n",
    "                                 name='{}_u'.format(self.name),\n",
    "                                 regularizer=self.u_regularizer,\n",
    "                                 constraint=self.u_constraint)\n",
    " \n",
    "        super(AttentionWithContext, self).build(input_shape)\n",
    " \n",
    "    def compute_mask(self, input, input_mask=None):\n",
    "        # do not pass the mask to the next layers\n",
    "        return None\n",
    " \n",
    "    def call(self, x, mask=None):\n",
    "        uit = dot_product(x, self.W)\n",
    " \n",
    "        if self.bias:\n",
    "            uit += self.b\n",
    " \n",
    "        uit = K.tanh(uit)\n",
    "        ait = dot_product(uit, self.u)\n",
    " \n",
    "        a = K.exp(ait)\n",
    " \n",
    "        # apply mask after the exp. will be re-normalized next\n",
    "        if mask is not None:\n",
    "            # Cast the mask to floatX to avoid float64 upcasting in theano\n",
    "            a *= K.cast(mask, K.floatx())\n",
    " \n",
    "        # in some cases especially in the early stages of training the sum may be almost zero\n",
    "        # and this results in NaN's. A workaround is to add a very small positive number ε to the sum.\n",
    "        # a /= K.cast(K.sum(a, axis=1, keepdims=True), K.floatx())\n",
    "        a /= K.cast(K.sum(a, axis=1, keepdims=True) + K.epsilon(), K.floatx())\n",
    " \n",
    "        a = K.expand_dims(a)\n",
    "        weighted_input = x * a\n",
    "        return K.sum(weighted_input, axis=1)\n",
    " \n",
    "    def compute_output_shape(self, input_shape):\n",
    "        return input_shape[0], input_shape[-1]"
   ]
  },
  {
   "cell_type": "code",
   "execution_count": 27,
   "metadata": {
    "collapsed": false
   },
   "outputs": [
    {
     "name": "stdout",
     "output_type": "stream",
     "text": [
      "__________________________________________________________________________________________________\n",
      "Layer (type)                    Output Shape         Param #     Connected to                     \n",
      "==================================================================================================\n",
      "input_2 (InputLayer)            (None, 100, 1)       0                                            \n",
      "__________________________________________________________________________________________________\n",
      "lambda_1 (Lambda)               (None, 1)            0           input_2[0][0]                    \n",
      "__________________________________________________________________________________________________\n",
      "input_1 (InputLayer)            (None, 2)            0                                            \n",
      "__________________________________________________________________________________________________\n",
      "input_4 (InputLayer)            (None, 161, 2)       0                                            \n",
      "__________________________________________________________________________________________________\n",
      "input_5 (InputLayer)            (None, 161, 2)       0                                            \n",
      "__________________________________________________________________________________________________\n",
      "repeat_vector_1 (RepeatVector)  (None, 100, 1)       0           lambda_1[0][0]                   \n",
      "__________________________________________________________________________________________________\n",
      "embedding_1 (Embedding)         (None, 2, 16)        11584       input_1[0][0]                    \n",
      "__________________________________________________________________________________________________\n",
      "gru_1 (GRU)                     (None, 161, 32)      3360        input_4[0][0]                    \n",
      "                                                                 input_5[0][0]                    \n",
      "__________________________________________________________________________________________________\n",
      "input_3 (InputLayer)            (None, 161, 35)      0                                            \n",
      "__________________________________________________________________________________________________\n",
      "lambda_2 (Lambda)               (None, 100, 1)       0           input_2[0][0]                    \n",
      "                                                                 repeat_vector_1[0][0]            \n",
      "__________________________________________________________________________________________________\n",
      "lambda_4 (Lambda)               (None, 16)           0           embedding_1[0][0]                \n",
      "__________________________________________________________________________________________________\n",
      "lambda_5 (Lambda)               (None, 161, 32)      0           gru_1[0][0]                      \n",
      "                                                                 gru_1[1][0]                      \n",
      "__________________________________________________________________________________________________\n",
      "gru_2 (GRU)                     (None, 161, 64)      19200       input_3[0][0]                    \n",
      "__________________________________________________________________________________________________\n",
      "get_diff_seq_1 (get_diff_seq)   (None, 100, 1)       0           lambda_2[0][0]                   \n",
      "__________________________________________________________________________________________________\n",
      "repeat_vector_3 (RepeatVector)  (None, 61, 16)       0           lambda_4[0][0]                   \n",
      "__________________________________________________________________________________________________\n",
      "lambda_6 (Lambda)               (None, 61, 32)       0           lambda_5[0][0]                   \n",
      "__________________________________________________________________________________________________\n",
      "lambda_7 (Lambda)               (None, 61, 64)       0           gru_2[0][0]                      \n",
      "__________________________________________________________________________________________________\n",
      "lambda_3 (Lambda)               (None, 99, 1)        0           get_diff_seq_1[0][0]             \n",
      "__________________________________________________________________________________________________\n",
      "concatenate_2 (Concatenate)     (None, 61, 112)      0           repeat_vector_3[0][0]            \n",
      "                                                                 lambda_6[0][0]                   \n",
      "                                                                 lambda_7[0][0]                   \n",
      "__________________________________________________________________________________________________\n",
      "gru_3 (GRU)                     [(None, 99, 256), (N 198144      lambda_3[0][0]                   \n",
      "__________________________________________________________________________________________________\n",
      "gru_4 (GRU)                     [(None, 61, 256), (N 283392      concatenate_2[0][0]              \n",
      "                                                                 gru_3[0][1]                      \n",
      "__________________________________________________________________________________________________\n",
      "dropout_1 (Dropout)             (None, 61, 256)      0           gru_4[0][0]                      \n",
      "__________________________________________________________________________________________________\n",
      "dense_1 (Dense)                 (None, 61, 1)        257         dropout_1[0][0]                  \n",
      "__________________________________________________________________________________________________\n",
      "lambda_8 (Lambda)               (None, 61, 1)        0           dense_1[0][0]                    \n",
      "__________________________________________________________________________________________________\n",
      "get_add_seq_1 (get_add_seq)     (None, 61, 1)        0           lambda_8[0][0]                   \n",
      "__________________________________________________________________________________________________\n",
      "repeat_vector_2 (RepeatVector)  (None, 61, 1)        0           lambda_1[0][0]                   \n",
      "__________________________________________________________________________________________________\n",
      "add_1 (Add)                     (None, 61, 1)        0           get_add_seq_1[0][0]              \n",
      "                                                                 repeat_vector_2[0][0]            \n",
      "==================================================================================================\n",
      "Total params: 515,937\n",
      "Trainable params: 515,937\n",
      "Non-trainable params: 0\n",
      "__________________________________________________________________________________________________\n"
     ]
    }
   ],
   "source": [
    "class get_diff_seq(Layer):\n",
    "    def __init__(self, **kwargs):\n",
    "        super().__init__(**kwargs)\n",
    "\n",
    "    def call(self, x):\n",
    "        y = []\n",
    "        y.append(x[:,0:1,:])\n",
    "        for i in range(1,x.shape[1]):\n",
    "            y.append(x[:,i:i+1,:]-x[:,i-1:i,:])\n",
    "        y = Concatenate(axis=1)(y)\n",
    "        return y\n",
    "\n",
    "    def compute_output_shape(self, input_shape):\n",
    "        return (input_shape)\n",
    "\n",
    "class get_add_seq(Layer):\n",
    "    def __init__(self, **kwargs):\n",
    "        super().__init__(**kwargs)\n",
    "\n",
    "    def call(self, x):\n",
    "        y = []\n",
    "        y.append(x[:,0:1,:])\n",
    "        for i in range(1,x.shape[1]):\n",
    "            y.append(x[:,i:i+1,:]+y[i-1])\n",
    "        y = Concatenate(axis=1)(y)\n",
    "        return y\n",
    "\n",
    "    def compute_output_shape(self, input_shape):\n",
    "        return (input_shape)\n",
    "\n",
    "def get_basemodel(x_id,x,out_x,out_x1,out_x2):  \n",
    "    #x_id = Lambda(lambda x:K.expand_dims(x,1))(x_id)\n",
    "    temp = Lambda(lambda x:x[:,input_len-1,:input_len])(x)\n",
    "    in_temp = RepeatVector(input_len)(temp)\n",
    "    out_temp = RepeatVector(output_len)(temp)\n",
    "    x = Lambda(lambda x:x[0]-x[1])([x,in_temp])\n",
    "    \n",
    "    x = get_diff_seq()(x)\n",
    "    x = Lambda(lambda x:x[:,1:,:])(x)\n",
    "    \n",
    "    x_id = Embedding(724,16,input_length=2)(x_id)\n",
    "    x_id = Lambda(lambda x:x[:,0,:]*x[:,1,:])(x_id)\n",
    "    #x_id_in = RepeatVector(input_len)(x_id)\n",
    "    x_id_out = RepeatVector(output_len)(x_id)\n",
    "\n",
    "    \n",
    "    hdn1 = 32\n",
    "    rnn1 = GRU(hdn1,return_sequences=True,dropout=0.5,recurrent_dropout=0.5,)\n",
    "    out1_ = rnn1(out_x1)\n",
    "    out2_ = rnn1(out_x2)\n",
    "    diff = Lambda(lambda x: K.abs(x[0] * x[1]))([out1_,out2_])\n",
    "    #in_diff = Lambda(lambda x:x[:,:output_len1-output_len,:])(diff)\n",
    "    out_diff = Lambda(lambda x:x[:,output_len1-output_len:,:])(diff)\n",
    "    #out_diff = RepeatVector(output_len)(diff)\n",
    "    \n",
    "    hdn2 = 64\n",
    "    rnn2 = GRU(hdn2,return_sequences=True,dropout=0.5,recurrent_dropout=0.5, )\n",
    "    out3_ = rnn2(out_x)\n",
    "    #in_idx = Lambda(lambda x:x[:,:output_len1-output_len,:])(out3_)\n",
    "    out_idx = Lambda(lambda x:x[:,output_len1-output_len:,:])(out3_)\n",
    "    #out_idx = RepeatVector(output_len)(out3_)\n",
    "\n",
    "    \n",
    "    hdn3 = 256\n",
    "    rnn3 = GRU(hdn3,return_state=True,return_sequences=True,\n",
    "                  #kernel_initializer='Orthogonal',\n",
    "                  #bias_initializer='zeros', \n",
    "                  #kernel_regularizer=keras.regularizers.l2(0.0001), \n",
    "                  #recurrent_regularizer=keras.regularizers.l2(0.0001),\n",
    "                  dropout=0.5, \n",
    "                  recurrent_dropout=0.5,\n",
    "                 )\n",
    "    de_rnn3 = GRU(hdn3, return_sequences=True, return_state=True,\n",
    "                   #kernel_initializer='Orthogonal',\n",
    "                   #bias_initializer='zeros', \n",
    "                   #kernel_regularizer=keras.regularizers.l2(0.0001), \n",
    "                   #recurrent_regularizer=keras.regularizers.l2(0.0001),\n",
    "                   dropout=0.5, \n",
    "                   recurrent_dropout=0.5,\n",
    "                  )\n",
    "    \n",
    "    #x = Concatenate(axis=2)([x_id_in, x, in_diff, in_idx])\n",
    "    xx = Concatenate(axis=2)([x_id_out, out_diff, out_idx])\n",
    "    #xx = Concatenate(axis=1)([x_id, diff, out3_])\n",
    "    #xx = Dense(128,kernel_initializer='he_normal')(xx)\n",
    "    #xx = BatchNormalization()(xx)\n",
    "    #xx = PReLU()(xx)\n",
    "    #xx = Dropout(0.5)(xx)\n",
    "    #xx = RepeatVector(output_len)(xx)\n",
    "    \n",
    "    out4_,state4 = rnn3(x)\n",
    "    out_x_4,_ = de_rnn3(xx,initial_state=state4)\n",
    "    \n",
    "    \n",
    "    y = out_x_4\n",
    "    #y = Dropout(0.5)(y)\n",
    "    \n",
    "    #y = Dense(128,kernel_initializer='he_normal')(y)\n",
    "    #y = BatchNormalization()(y)\n",
    "    #y = PReLU()(y)\n",
    "    y = Dropout(0.5)(y)\n",
    "    y = Dense(1,kernel_initializer='he_normal',activation='tanh')(y)\n",
    "    y = Lambda(lambda xx:xx*0.1)(y)\n",
    "    y = get_add_seq()(y)\n",
    "    y = add([y,out_temp])\n",
    "    #y = Lambda(lambda xx:xx*1.6-1.3+0.7673176)(y)\n",
    "    \n",
    "    return y\n",
    "\n",
    "ids = Input(shape=(2, ))\n",
    "seq_in = Input(shape=(input_len, 1))\n",
    "out_x = Input(shape=(output_len1, 35))\n",
    "out_x1 = Input(shape=(output_len1, 2))\n",
    "out_x2 = Input(shape=(output_len1, 2))\n",
    "seq_out = get_basemodel(ids,seq_in,out_x,out_x1,out_x2)\n",
    "model = Model([ids,seq_in,out_x,out_x1,out_x2],seq_out)\n",
    "model.summary()"
   ]
  },
  {
   "cell_type": "code",
   "execution_count": 35,
   "metadata": {
    "collapsed": false
   },
   "outputs": [],
   "source": [
    "def lc_loss(y_true, y_pred):  \n",
    "    y_true = y_true[:,:,0]\n",
    "    y_pred = y_pred[:,:,0]\n",
    "    MAE = K.mean(K.abs(y_pred - y_true), axis=-1)   \n",
    "    TMAPE = K.mean(K.abs(y_pred-y_true)/(1.5-y_true), axis=-1)  \n",
    "    \n",
    "    y_true1 = y_true[:,50:61]\n",
    "    y_pred1 = y_pred[:,50:61]\n",
    "    MAE1 = K.mean(K.abs(y_pred1 - y_true1), axis=-1)   \n",
    "    TMAPE1 = K.mean(K.abs(y_pred1-y_true1)/(1.5-y_true1), axis=-1) \n",
    "    \n",
    "    return MAE + TMAPE + (MAE1 + TMAPE1)\n"
   ]
  },
  {
   "cell_type": "code",
   "execution_count": 29,
   "metadata": {
    "collapsed": true
   },
   "outputs": [],
   "source": [
    "def lc_metric(y_true, y_pred):\n",
    "    y_true = y_true[:,:,0]\n",
    "    y_pred = y_pred[:,:,0]\n",
    "    MAE = K.mean(K.abs(y_pred-y_true), axis=-1)   \n",
    "    TMAPE = K.mean(K.abs(y_pred-y_true)/(1.5-y_true), axis=-1)  \n",
    "    return (2/(2+MAE+TMAPE))**2"
   ]
  },
  {
   "cell_type": "code",
   "execution_count": 36,
   "metadata": {
    "collapsed": true
   },
   "outputs": [],
   "source": [
    "def lc_metric1(y_true, y_pred):\n",
    "    y_true = y_true[:,50:61,0]\n",
    "    y_pred = y_pred[:,50:61,0]\n",
    "    MAE = K.mean(K.abs(y_pred-y_true), axis=-1)   \n",
    "    TMAPE = K.mean(K.abs(y_pred-y_true)/(1.5-y_true), axis=-1)  \n",
    "    return (2/(2+MAE+TMAPE))**2"
   ]
  },
  {
   "cell_type": "code",
   "execution_count": null,
   "metadata": {
    "collapsed": true
   },
   "outputs": [],
   "source": [
    "params = {'batch_size': 512*2,\n",
    "          'alen': input_len,\n",
    "          'blen': output_len,\n",
    "          'clen': output_len1,\n",
    "          'am':1,\n",
    "          'shuffle': True}\n",
    "\n",
    "training_generator = DataGenerator(train_data,val_ids,index_return,train_data2,train_data3,  **params)\n"
   ]
  },
  {
   "cell_type": "code",
   "execution_count": 37,
   "metadata": {
    "collapsed": true
   },
   "outputs": [],
   "source": [
    "ids = Input(shape=(2, ))\n",
    "seq_in = Input(shape=(input_len, 1))\n",
    "out_x = Input(shape=(output_len1, 35))\n",
    "out_x1 = Input(shape=(output_len1, 2))\n",
    "out_x2 = Input(shape=(output_len1, 2))\n",
    "seq_out = get_basemodel(ids,seq_in,out_x,out_x1,out_x2)\n",
    "model = Model([ids,seq_in,out_x,out_x1,out_x2],seq_out)"
   ]
  },
  {
   "cell_type": "code",
   "execution_count": 38,
   "metadata": {
    "collapsed": false,
    "scrolled": true
   },
   "outputs": [
    {
     "name": "stdout",
     "output_type": "stream",
     "text": [
      "Epoch 1/100\n",
      "255/255 [==============================] - 286s 1s/step - loss: 0.3352 - lc_metric: 0.8812 - lc_metric1: 0.8397 - val_loss: 0.4689 - val_lc_metric: 0.8583 - val_lc_metric1: 0.7752\n",
      "\n",
      "Epoch 00001: val_lc_metric improved from -inf to 0.85832, saving model to ../data/keras.model\n",
      "Epoch 2/100\n",
      "255/255 [==============================] - 282s 1s/step - loss: 0.3301 - lc_metric: 0.8828 - lc_metric1: 0.8419 - val_loss: 0.4469 - val_lc_metric: 0.8653 - val_lc_metric1: 0.7833\n",
      "\n",
      "Epoch 00002: val_lc_metric improved from 0.85832 to 0.86529, saving model to ../data/keras.model\n",
      "Epoch 3/100\n",
      "255/255 [==============================] - 281s 1s/step - loss: 0.3279 - lc_metric: 0.8836 - lc_metric1: 0.8429 - val_loss: 0.4453 - val_lc_metric: 0.8651 - val_lc_metric1: 0.7844\n",
      "\n",
      "Epoch 00003: val_lc_metric did not improve from 0.86529\n",
      "Epoch 4/100\n",
      "255/255 [==============================] - 281s 1s/step - loss: 0.3268 - lc_metric: 0.8839 - lc_metric1: 0.8434 - val_loss: 0.4438 - val_lc_metric: 0.8656 - val_lc_metric1: 0.7849\n",
      "\n",
      "Epoch 00004: val_lc_metric improved from 0.86529 to 0.86564, saving model to ../data/keras.model\n",
      "Epoch 5/100\n",
      "255/255 [==============================] - 281s 1s/step - loss: 0.3262 - lc_metric: 0.8840 - lc_metric1: 0.8436 - val_loss: 0.4245 - val_lc_metric: 0.8704 - val_lc_metric1: 0.7931\n",
      "\n",
      "Epoch 00005: val_lc_metric improved from 0.86564 to 0.87039, saving model to ../data/keras.model\n",
      "Epoch 6/100\n",
      "255/255 [==============================] - 283s 1s/step - loss: 0.3243 - lc_metric: 0.8844 - lc_metric1: 0.8445 - val_loss: 0.4259 - val_lc_metric: 0.8700 - val_lc_metric1: 0.7923\n",
      "\n",
      "Epoch 00006: val_lc_metric did not improve from 0.87039\n",
      "Epoch 7/100\n",
      "255/255 [==============================] - 282s 1s/step - loss: 0.3239 - lc_metric: 0.8845 - lc_metric1: 0.8446 - val_loss: 0.4538 - val_lc_metric: 0.8622 - val_lc_metric1: 0.7809\n",
      "\n",
      "Epoch 00007: val_lc_metric did not improve from 0.87039\n",
      "\n",
      "Epoch 00007: ReduceLROnPlateau reducing learning rate to 1.9999999494757503e-05.\n",
      "Epoch 8/100\n",
      "255/255 [==============================] - 282s 1s/step - loss: 0.3231 - lc_metric: 0.8847 - lc_metric1: 0.8450 - val_loss: 0.4370 - val_lc_metric: 0.8671 - val_lc_metric1: 0.7875\n",
      "\n",
      "Epoch 00008: val_lc_metric did not improve from 0.87039\n",
      "Epoch 9/100\n",
      "255/255 [==============================] - 282s 1s/step - loss: 0.3229 - lc_metric: 0.8847 - lc_metric1: 0.8452 - val_loss: 0.4388 - val_lc_metric: 0.8667 - val_lc_metric1: 0.7867\n",
      "\n",
      "Epoch 00009: val_lc_metric did not improve from 0.87039\n",
      "\n",
      "Epoch 00009: ReduceLROnPlateau reducing learning rate to 1e-05.\n",
      "Epoch 10/100\n",
      "255/255 [==============================] - 283s 1s/step - loss: 0.3235 - lc_metric: 0.8846 - lc_metric1: 0.8450 - val_loss: 0.4359 - val_lc_metric: 0.8673 - val_lc_metric1: 0.7880\n",
      "\n",
      "Epoch 00010: val_lc_metric did not improve from 0.87039\n",
      "Epoch 11/100\n",
      "255/255 [==============================] - 284s 1s/step - loss: 0.3228 - lc_metric: 0.8847 - lc_metric1: 0.8454 - val_loss: 0.4359 - val_lc_metric: 0.8672 - val_lc_metric1: 0.7880\n",
      "\n",
      "Epoch 00011: val_lc_metric did not improve from 0.87039\n",
      "Epoch 00011: early stopping\n"
     ]
    },
    {
     "data": {
      "text/plain": [
       "<keras.callbacks.History at 0x26ddceddd30>"
      ]
     },
     "execution_count": 38,
     "metadata": {},
     "output_type": "execute_result"
    }
   ],
   "source": [
    "\n",
    "early_stopping = EarlyStopping(patience=6,\n",
    "                               verbose=1,\n",
    "                               monitor='val_lc_metric',\n",
    "                               mode='max',\n",
    "                              )\n",
    "model_checkpoint = ModelCheckpoint(\"../data/keras.model\",\n",
    "                                   save_best_only=True,\n",
    "                                   verbose=1,\n",
    "                                   monitor='val_lc_metric',\n",
    "                                   mode='max',\n",
    "                                  )\n",
    "reduce_lr = ReduceLROnPlateau(factor=0.1, \n",
    "                              patience=2, \n",
    "                              min_lr=0.00001, \n",
    "                              verbose=1,\n",
    "                              monitor='val_lc_metric',\n",
    "                              mode='max',\n",
    "                             )\n",
    "\n",
    "model.compile(\n",
    "              #loss='mse', \n",
    "              loss=lc_loss,\n",
    "              optimizer=keras.optimizers.Nadam(lr=0.0002),\n",
    "              metrics=[lc_metric,lc_metric1],\n",
    "             )\n",
    "\n",
    "epochs = 100\n",
    "batch_size = 512\n",
    "model.fit_generator(generator=training_generator,\n",
    "                    validation_data=[[val_ids,val_X,val_idx,val_X2,val_X3],val_Y],\n",
    "                    epochs=epochs,\n",
    "                    #batch_size=batch_size,\n",
    "                    callbacks=[early_stopping, model_checkpoint, reduce_lr],\n",
    "                    #use_multiprocessing=False,\n",
    "                    #workers=1,\n",
    "                   )\n"
   ]
  },
  {
   "cell_type": "code",
   "execution_count": null,
   "metadata": {
    "collapsed": true
   },
   "outputs": [],
   "source": [
    "0.87544 0.7903\n"
   ]
  },
  {
   "cell_type": "code",
   "execution_count": null,
   "metadata": {
    "collapsed": true
   },
   "outputs": [],
   "source": [
    "0.85859"
   ]
  },
  {
   "cell_type": "code",
   "execution_count": 39,
   "metadata": {
    "collapsed": true
   },
   "outputs": [],
   "source": [
    "model.load_weights(\"../data/keras.model\")"
   ]
  },
  {
   "cell_type": "code",
   "execution_count": 40,
   "metadata": {
    "collapsed": false
   },
   "outputs": [],
   "source": [
    "\n",
    "y_pred = model.predict([val_ids,test_X,test_idx, test_X2,test_X3],batch_size = 512)"
   ]
  },
  {
   "cell_type": "code",
   "execution_count": 41,
   "metadata": {
    "collapsed": false
   },
   "outputs": [
    {
     "data": {
      "text/plain": [
       "(261003, 61, 1)"
      ]
     },
     "execution_count": 41,
     "metadata": {},
     "output_type": "execute_result"
    }
   ],
   "source": [
    "y_pred.shape"
   ]
  },
  {
   "cell_type": "code",
   "execution_count": 42,
   "metadata": {
    "collapsed": true
   },
   "outputs": [],
   "source": [
    "import matplotlib.pyplot as plt\n",
    "plt.style.use('seaborn-white')\n",
    "import seaborn as sns\n",
    "sns.set_style(\"white\")\n",
    "%matplotlib inline"
   ]
  },
  {
   "cell_type": "code",
   "execution_count": 48,
   "metadata": {
    "collapsed": false
   },
   "outputs": [
    {
     "data": {
      "text/plain": [
       "[<matplotlib.lines.Line2D at 0x26ddd0bee48>]"
      ]
     },
     "execution_count": 48,
     "metadata": {},
     "output_type": "execute_result"
    },
    {
     "data": {
      "image/png": "[encoded data removed]",
      "text/plain": [
       "<Figure size 432x288 with 1 Axes>"
      ]
     },
     "metadata": {},
     "output_type": "display_data"
    }
   ],
   "source": [
    "ii = 11000\n",
    "plt.plot(range(439,539),train_data[ii,439:],color='blue')\n",
    "plt.plot(range(539,539+61),y_pred[ii,:],color='red')"
   ]
  },
  {
   "cell_type": "code",
   "execution_count": 9,
   "metadata": {
    "collapsed": false
   },
   "outputs": [
    {
     "data": {
      "text/plain": [
       "Index(['fund_pair', '0', '1', '2', '3', '4', '5', '6', '7', '8',\n",
       "       ...\n",
       "       '529', '530', '531', '532', '533', '534', '535', '536', '537', '538'],\n",
       "      dtype='object', length=540)"
      ]
     },
     "execution_count": 9,
     "metadata": {},
     "output_type": "execute_result"
    }
   ],
   "source": [
    "train_correlation.columns"
   ]
  },
  {
   "cell_type": "code",
   "execution_count": 6,
   "metadata": {
    "collapsed": true
   },
   "outputs": [],
   "source": [
    "sub = pd.DataFrame()\n",
    "sub['ID'] = train_correlation['fund_pair']\n",
    "#sub['value'] = np.mean(y_pred[:,50:61,0],axis=1)\n",
    "uuu = ['538','111','222','333','444','66','88','528','518']\n",
    "#uuu = ['66','88','528','518']\n",
    "sub['value'] = np.mean(np.array(train_correlation[uuu].values),axis=1)"
   ]
  },
  {
   "cell_type": "code",
   "execution_count": 7,
   "metadata": {
    "collapsed": true
   },
   "outputs": [],
   "source": [
    "sub.to_csv('../submit/1111_random.csv',index=None)"
   ]
  },
  {
   "cell_type": "code",
   "execution_count": 8,
   "metadata": {
    "collapsed": false
   },
   "outputs": [
    {
     "data": {
      "text/plain": [
       "count    261003.000000\n",
       "mean          0.831386\n",
       "std           0.085967\n",
       "min           0.106672\n",
       "25%           0.792284\n",
       "50%           0.850266\n",
       "75%           0.891611\n",
       "max           0.999556\n",
       "Name: value, dtype: float64"
      ]
     },
     "execution_count": 8,
     "metadata": {},
     "output_type": "execute_result"
    }
   ],
   "source": [
    "sub['value'].describe()"
   ]
  },
  {
   "cell_type": "code",
   "execution_count": null,
   "metadata": {
    "collapsed": true
   },
   "outputs": [],
   "source": []
  }
 ],
 "metadata": {
  "anaconda-cloud": {},
  "kernelspec": {
   "display_name": "Python [default]",
   "language": "python",
   "name": "python3"
  },
  "language_info": {
   "codemirror_mode": {
    "name": "ipython",
    "version": 3
   },
   "file_extension": ".py",
   "mimetype": "text/x-python",
   "name": "python",
   "nbconvert_exporter": "python",
   "pygments_lexer": "ipython3",
   "version": "3.5.5"
  }
 },
 "nbformat": 4,
 "nbformat_minor": 2
}
